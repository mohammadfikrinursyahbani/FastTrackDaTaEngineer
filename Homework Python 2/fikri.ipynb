{
 "cells": [
  {
   "cell_type": "code",
   "execution_count": 1,
   "metadata": {},
   "outputs": [],
   "source": [
    "sales_data = [\n",
    "    {'item': 'apple', 'quantity': 10, 'price': 0.5},\n",
    "    {'item': 'banana', 'quantity': 5, 'price': 0.75},\n",
    "    {'item': 'orange', 'quantity': 8, 'price': 0.6}\n",
    "]"
   ]
  },
  {
   "cell_type": "markdown",
   "metadata": {},
   "source": [
    "Tulislah sebuah fungsi yang menghitung jumlah total penjualan\n",
    "(quantity * price) untuk setiap item dan mengembalikan daftar dictionary baru dengan 'item'\n",
    "dan 'total_sales'."
   ]
  },
  {
   "cell_type": "code",
   "execution_count": 3,
   "metadata": {},
   "outputs": [],
   "source": [
    "def calculate_total_sales(data):\n",
    "    return [\n",
    "        {\n",
    "            'item' : x['item'],\n",
    "            'total_sales' : x['quantity'] * x['price']\n",
    "        }\n",
    "        for x in data\n",
    "    ]"
   ]
  },
  {
   "cell_type": "code",
   "execution_count": 4,
   "metadata": {},
   "outputs": [
    {
     "name": "stdout",
     "output_type": "stream",
     "text": [
      "[{'item': 'apple', 'total_sales': 5.0}, {'item': 'banana', 'total_sales': 3.75}, {'item': 'orange', 'total_sales': 4.8}]\n"
     ]
    }
   ],
   "source": [
    "print(calculate_total_sales(sales_data))"
   ]
  }
 ],
 "metadata": {
  "kernelspec": {
   "display_name": "Python 3",
   "language": "python",
   "name": "python3"
  },
  "language_info": {
   "codemirror_mode": {
    "name": "ipython",
    "version": 3
   },
   "file_extension": ".py",
   "mimetype": "text/x-python",
   "name": "python",
   "nbconvert_exporter": "python",
   "pygments_lexer": "ipython3",
   "version": "3.11.1"
  }
 },
 "nbformat": 4,
 "nbformat_minor": 2
}
