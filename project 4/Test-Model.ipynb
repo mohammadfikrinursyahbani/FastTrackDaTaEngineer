{
 "cells": [
  {
   "cell_type": "code",
   "execution_count": null,
   "metadata": {},
   "outputs": [],
   "source": [
    "from modelling import FraudModel"
   ]
  },
  {
   "cell_type": "code",
   "execution_count": null,
   "metadata": {},
   "outputs": [],
   "source": [
    "new_data = {\n",
    "    'step' : 1,\n",
    "    'type' : 'payment',\n",
    "    'amount' : 9839.64,\n",
    "    'oldbalanceOrg' : 170136.0,\n",
    "    'newbalanceOrig' : 160296.36,\n",
    "    'oldbalanceDest' : 0.0,\n",
    "    'newbalanceDest' : 0.0\n",
    "}\n",
    "\n",
    "new_data"
   ]
  },
  {
   "cell_type": "code",
   "execution_count": null,
   "metadata": {},
   "outputs": [],
   "source": [
    "import os\n",
    "\n",
    "path = os.getcwd()\n",
    "path = path + '\\\\modelling\\\\'\n",
    "path"
   ]
  },
  {
   "cell_type": "code",
   "execution_count": null,
   "metadata": {},
   "outputs": [],
   "source": [
    "FraudModel.runModel(new_data, path)"
   ]
  }
 ],
 "metadata": {
  "language_info": {
   "name": "python"
  }
 },
 "nbformat": 4,
 "nbformat_minor": 2
}
